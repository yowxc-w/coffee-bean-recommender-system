{
 "cells": [
  {
   "cell_type": "markdown",
   "id": "7d7965ef-20bf-4e29-ba77-7a8aa3323c1b",
   "metadata": {
    "tags": []
   },
   "source": [
    "# Content Based Filtering\n",
    "---"
   ]
  },
  {
   "cell_type": "code",
   "execution_count": 2,
   "id": "86dc1977-b218-4fc1-8658-38d94aaabeee",
   "metadata": {
    "tags": []
   },
   "outputs": [],
   "source": [
    "import os\n",
    "import pandas as pd\n",
    "from ast import literal_eval\n",
    "import numpy as np\n",
    "\n",
    "from sklearn.preprocessing import MinMaxScaler\n",
    "from sklearn.feature_extraction.text import CountVectorizer\n",
    "from sklearn.feature_extraction.text import TfidfVectorizer\n",
    "from sklearn.metrics.pairwise import cosine_similarity\n",
    "from sklearn.metrics import mean_squared_error\n",
    "\n",
    "from wordcloud import WordCloud\n",
    "import matplotlib.pyplot as plt"
   ]
  },
  {
   "cell_type": "markdown",
   "id": "0f468ff6-8e65-4521-a7b8-64d6d3a7cbfe",
   "metadata": {
    "tags": []
   },
   "source": [
    "## General Settings"
   ]
  },
  {
   "cell_type": "code",
   "execution_count": 3,
   "id": "9af512c5-ba72-4a50-b810-c62dfc2bf4e7",
   "metadata": {
    "tags": []
   },
   "outputs": [],
   "source": [
    "#Define Saving Dir\n",
    "baseDir = os.getcwd()+'\\\\data\\\\PreProcessorData'"
   ]
  },
  {
   "cell_type": "markdown",
   "id": "6444ab7b-f11d-4dce-a8ba-6aee9b031d91",
   "metadata": {},
   "source": [
    "## Building Model"
   ]
  },
  {
   "cell_type": "code",
   "execution_count": 3,
   "id": "7a4953d4-2ad2-4267-87e1-b52963145b9a",
   "metadata": {
    "tags": []
   },
   "outputs": [
    {
     "data": {
      "text/html": [
       "<div>\n",
       "<style scoped>\n",
       "    .dataframe tbody tr th:only-of-type {\n",
       "        vertical-align: middle;\n",
       "    }\n",
       "\n",
       "    .dataframe tbody tr th {\n",
       "        vertical-align: top;\n",
       "    }\n",
       "\n",
       "    .dataframe thead th {\n",
       "        text-align: right;\n",
       "    }\n",
       "</style>\n",
       "<table border=\"1\" class=\"dataframe\">\n",
       "  <thead>\n",
       "    <tr style=\"text-align: right;\">\n",
       "      <th></th>\n",
       "      <th>Tags</th>\n",
       "    </tr>\n",
       "    <tr>\n",
       "      <th>ID</th>\n",
       "      <th></th>\n",
       "    </tr>\n",
       "  </thead>\n",
       "  <tbody>\n",
       "    <tr>\n",
       "      <th>2374069313</th>\n",
       "      <td>[Africa, Blend, Central America, Chocolate, Es...</td>\n",
       "    </tr>\n",
       "    <tr>\n",
       "      <th>6903008775</th>\n",
       "      <td>[Asia &amp; Pacific, Blend, Bold, Caramel, Chocola...</td>\n",
       "    </tr>\n",
       "    <tr>\n",
       "      <th>6811920695393</th>\n",
       "      <td>[Anaerobic, Asia &amp; Pacific, Best Coffee, Filte...</td>\n",
       "    </tr>\n",
       "    <tr>\n",
       "      <th>452304175135</th>\n",
       "      <td>[Bestseller, Blend, Bold, Caramel, Chocolate, ...</td>\n",
       "    </tr>\n",
       "    <tr>\n",
       "      <th>1419084071009</th>\n",
       "      <td>[Blend, Bold, Chocolate, Espresso, Malaysia, M...</td>\n",
       "    </tr>\n",
       "  </tbody>\n",
       "</table>\n",
       "</div>"
      ],
      "text/plain": [
       "                                                            Tags\n",
       "ID                                                              \n",
       "2374069313     [Africa, Blend, Central America, Chocolate, Es...\n",
       "6903008775     [Asia & Pacific, Blend, Bold, Caramel, Chocola...\n",
       "6811920695393  [Anaerobic, Asia & Pacific, Best Coffee, Filte...\n",
       "452304175135   [Bestseller, Blend, Bold, Caramel, Chocolate, ...\n",
       "1419084071009  [Blend, Bold, Chocolate, Espresso, Malaysia, M..."
      ]
     },
     "execution_count": 3,
     "metadata": {},
     "output_type": "execute_result"
    }
   ],
   "source": [
    "product = pd.read_csv(baseDir+'\\\\product.csv', index_col='ID', converters={'Tags':literal_eval})\n",
    "product.head()"
   ]
  },
  {
   "cell_type": "code",
   "execution_count": 4,
   "id": "15f51521-ffb3-4f81-81ba-2bc5b151f1eb",
   "metadata": {
    "tags": []
   },
   "outputs": [
    {
     "data": {
      "text/plain": [
       "(80, 112)"
      ]
     },
     "execution_count": 4,
     "metadata": {},
     "output_type": "execute_result"
    }
   ],
   "source": [
    "def dummyAnalyzer(x):\n",
    "    return x\n",
    "\n",
    "#vectorizer = CountVectorizer(analyzer=dummyAnalyzer)\n",
    "vectorizer = TfidfVectorizer(analyzer=dummyAnalyzer)\n",
    "\n",
    "X = vectorizer.fit_transform(product.Tags)\n",
    "X.shape"
   ]
  },
  {
   "cell_type": "code",
   "execution_count": 5,
   "id": "1f67b2c3-399d-4868-ad25-bc9bb4a63502",
   "metadata": {
    "tags": []
   },
   "outputs": [
    {
     "data": {
      "text/html": [
       "<div>\n",
       "<style scoped>\n",
       "    .dataframe tbody tr th:only-of-type {\n",
       "        vertical-align: middle;\n",
       "    }\n",
       "\n",
       "    .dataframe tbody tr th {\n",
       "        vertical-align: top;\n",
       "    }\n",
       "\n",
       "    .dataframe thead th {\n",
       "        text-align: right;\n",
       "    }\n",
       "</style>\n",
       "<table border=\"1\" class=\"dataframe\">\n",
       "  <thead>\n",
       "    <tr style=\"text-align: right;\">\n",
       "      <th>ID</th>\n",
       "      <th>2374069313</th>\n",
       "      <th>6903008775</th>\n",
       "      <th>6811920695393</th>\n",
       "      <th>452304175135</th>\n",
       "      <th>1419084071009</th>\n",
       "      <th>11300571975</th>\n",
       "      <th>464439297</th>\n",
       "      <th>1850379265</th>\n",
       "      <th>1419080040545</th>\n",
       "      <th>1419071258721</th>\n",
       "      <th>...</th>\n",
       "      <th>762479706209</th>\n",
       "      <th>7004871688289</th>\n",
       "      <th>7015596392545</th>\n",
       "      <th>7020214878305</th>\n",
       "      <th>7020216746081</th>\n",
       "      <th>762476626017</th>\n",
       "      <th>6977998258273</th>\n",
       "      <th>7027545145441</th>\n",
       "      <th>7015596752993</th>\n",
       "      <th>4854625271905</th>\n",
       "    </tr>\n",
       "    <tr>\n",
       "      <th>ID</th>\n",
       "      <th></th>\n",
       "      <th></th>\n",
       "      <th></th>\n",
       "      <th></th>\n",
       "      <th></th>\n",
       "      <th></th>\n",
       "      <th></th>\n",
       "      <th></th>\n",
       "      <th></th>\n",
       "      <th></th>\n",
       "      <th></th>\n",
       "      <th></th>\n",
       "      <th></th>\n",
       "      <th></th>\n",
       "      <th></th>\n",
       "      <th></th>\n",
       "      <th></th>\n",
       "      <th></th>\n",
       "      <th></th>\n",
       "      <th></th>\n",
       "      <th></th>\n",
       "    </tr>\n",
       "  </thead>\n",
       "  <tbody>\n",
       "    <tr>\n",
       "      <th>2374069313</th>\n",
       "      <td>1.000000</td>\n",
       "      <td>0.533290</td>\n",
       "      <td>0.104497</td>\n",
       "      <td>0.277929</td>\n",
       "      <td>0.337452</td>\n",
       "      <td>0.272068</td>\n",
       "      <td>0.256159</td>\n",
       "      <td>0.360122</td>\n",
       "      <td>0.296147</td>\n",
       "      <td>0.372379</td>\n",
       "      <td>...</td>\n",
       "      <td>0.194440</td>\n",
       "      <td>0.322201</td>\n",
       "      <td>0.128622</td>\n",
       "      <td>0.175511</td>\n",
       "      <td>0.294379</td>\n",
       "      <td>0.149237</td>\n",
       "      <td>0.079288</td>\n",
       "      <td>0.175648</td>\n",
       "      <td>0.104317</td>\n",
       "      <td>0.241206</td>\n",
       "    </tr>\n",
       "    <tr>\n",
       "      <th>6903008775</th>\n",
       "      <td>0.533290</td>\n",
       "      <td>1.000000</td>\n",
       "      <td>0.084336</td>\n",
       "      <td>0.319705</td>\n",
       "      <td>0.329183</td>\n",
       "      <td>0.321845</td>\n",
       "      <td>0.363030</td>\n",
       "      <td>0.403415</td>\n",
       "      <td>0.228894</td>\n",
       "      <td>0.354260</td>\n",
       "      <td>...</td>\n",
       "      <td>0.113986</td>\n",
       "      <td>0.229323</td>\n",
       "      <td>0.068418</td>\n",
       "      <td>0.069012</td>\n",
       "      <td>0.139331</td>\n",
       "      <td>0.224273</td>\n",
       "      <td>0.083768</td>\n",
       "      <td>0.097502</td>\n",
       "      <td>0.075964</td>\n",
       "      <td>0.110002</td>\n",
       "    </tr>\n",
       "    <tr>\n",
       "      <th>6811920695393</th>\n",
       "      <td>0.104497</td>\n",
       "      <td>0.084336</td>\n",
       "      <td>1.000000</td>\n",
       "      <td>0.027469</td>\n",
       "      <td>0.105704</td>\n",
       "      <td>0.138844</td>\n",
       "      <td>0.096846</td>\n",
       "      <td>0.100709</td>\n",
       "      <td>0.105271</td>\n",
       "      <td>0.104137</td>\n",
       "      <td>...</td>\n",
       "      <td>0.174998</td>\n",
       "      <td>0.130678</td>\n",
       "      <td>0.297267</td>\n",
       "      <td>0.204829</td>\n",
       "      <td>0.168196</td>\n",
       "      <td>0.064821</td>\n",
       "      <td>0.171594</td>\n",
       "      <td>0.179383</td>\n",
       "      <td>0.352009</td>\n",
       "      <td>0.300061</td>\n",
       "    </tr>\n",
       "    <tr>\n",
       "      <th>452304175135</th>\n",
       "      <td>0.277929</td>\n",
       "      <td>0.319705</td>\n",
       "      <td>0.027469</td>\n",
       "      <td>1.000000</td>\n",
       "      <td>0.514592</td>\n",
       "      <td>0.342189</td>\n",
       "      <td>0.387324</td>\n",
       "      <td>0.541328</td>\n",
       "      <td>0.380762</td>\n",
       "      <td>0.494524</td>\n",
       "      <td>...</td>\n",
       "      <td>0.023519</td>\n",
       "      <td>0.237706</td>\n",
       "      <td>0.049674</td>\n",
       "      <td>0.142084</td>\n",
       "      <td>0.090108</td>\n",
       "      <td>0.182343</td>\n",
       "      <td>0.028217</td>\n",
       "      <td>0.050079</td>\n",
       "      <td>0.041942</td>\n",
       "      <td>0.089712</td>\n",
       "    </tr>\n",
       "    <tr>\n",
       "      <th>1419084071009</th>\n",
       "      <td>0.337452</td>\n",
       "      <td>0.329183</td>\n",
       "      <td>0.105704</td>\n",
       "      <td>0.514592</td>\n",
       "      <td>1.000000</td>\n",
       "      <td>0.503117</td>\n",
       "      <td>0.325220</td>\n",
       "      <td>0.552613</td>\n",
       "      <td>0.601742</td>\n",
       "      <td>0.497324</td>\n",
       "      <td>...</td>\n",
       "      <td>0.054942</td>\n",
       "      <td>0.247665</td>\n",
       "      <td>0.240019</td>\n",
       "      <td>0.122463</td>\n",
       "      <td>0.102360</td>\n",
       "      <td>0.262256</td>\n",
       "      <td>0.202049</td>\n",
       "      <td>0.056888</td>\n",
       "      <td>0.047645</td>\n",
       "      <td>0.124521</td>\n",
       "    </tr>\n",
       "  </tbody>\n",
       "</table>\n",
       "<p>5 rows × 80 columns</p>\n",
       "</div>"
      ],
      "text/plain": [
       "ID             2374069313     6903008775     6811920695393  452304175135   \\\n",
       "ID                                                                          \n",
       "2374069313          1.000000       0.533290       0.104497       0.277929   \n",
       "6903008775          0.533290       1.000000       0.084336       0.319705   \n",
       "6811920695393       0.104497       0.084336       1.000000       0.027469   \n",
       "452304175135        0.277929       0.319705       0.027469       1.000000   \n",
       "1419084071009       0.337452       0.329183       0.105704       0.514592   \n",
       "\n",
       "ID             1419084071009  11300571975    464439297      1850379265     \\\n",
       "ID                                                                          \n",
       "2374069313          0.337452       0.272068       0.256159       0.360122   \n",
       "6903008775          0.329183       0.321845       0.363030       0.403415   \n",
       "6811920695393       0.105704       0.138844       0.096846       0.100709   \n",
       "452304175135        0.514592       0.342189       0.387324       0.541328   \n",
       "1419084071009       1.000000       0.503117       0.325220       0.552613   \n",
       "\n",
       "ID             1419080040545  1419071258721  ...  762479706209   \\\n",
       "ID                                           ...                  \n",
       "2374069313          0.296147       0.372379  ...       0.194440   \n",
       "6903008775          0.228894       0.354260  ...       0.113986   \n",
       "6811920695393       0.105271       0.104137  ...       0.174998   \n",
       "452304175135        0.380762       0.494524  ...       0.023519   \n",
       "1419084071009       0.601742       0.497324  ...       0.054942   \n",
       "\n",
       "ID             7004871688289  7015596392545  7020214878305  7020216746081  \\\n",
       "ID                                                                          \n",
       "2374069313          0.322201       0.128622       0.175511       0.294379   \n",
       "6903008775          0.229323       0.068418       0.069012       0.139331   \n",
       "6811920695393       0.130678       0.297267       0.204829       0.168196   \n",
       "452304175135        0.237706       0.049674       0.142084       0.090108   \n",
       "1419084071009       0.247665       0.240019       0.122463       0.102360   \n",
       "\n",
       "ID             762476626017   6977998258273  7027545145441  7015596752993  \\\n",
       "ID                                                                          \n",
       "2374069313          0.149237       0.079288       0.175648       0.104317   \n",
       "6903008775          0.224273       0.083768       0.097502       0.075964   \n",
       "6811920695393       0.064821       0.171594       0.179383       0.352009   \n",
       "452304175135        0.182343       0.028217       0.050079       0.041942   \n",
       "1419084071009       0.262256       0.202049       0.056888       0.047645   \n",
       "\n",
       "ID             4854625271905  \n",
       "ID                            \n",
       "2374069313          0.241206  \n",
       "6903008775          0.110002  \n",
       "6811920695393       0.300061  \n",
       "452304175135        0.089712  \n",
       "1419084071009       0.124521  \n",
       "\n",
       "[5 rows x 80 columns]"
      ]
     },
     "execution_count": 5,
     "metadata": {},
     "output_type": "execute_result"
    }
   ],
   "source": [
    "model = pd.DataFrame(data=cosine_similarity(X), columns=product.index, index=product.index)\n",
    "model.head()"
   ]
  },
  {
   "cell_type": "code",
   "execution_count": 6,
   "id": "3fa2986e-b569-4b25-9f1f-672721d9f014",
   "metadata": {
    "tags": []
   },
   "outputs": [],
   "source": [
    "model = model.reset_index()\n",
    "model = model.rename(columns={'ID':'ProductID'})\n",
    "model.to_csv(os.getcwd()+'\\\\data\\\\RecommenderSystem\\\\contentBased.csv', index=False)"
   ]
  },
  {
   "cell_type": "markdown",
   "id": "8bd687ac-b09d-459a-ba2c-58487ce048e1",
   "metadata": {},
   "source": [
    "## Testing Model"
   ]
  },
  {
   "cell_type": "code",
   "execution_count": 7,
   "id": "6749b8f7-60f4-46a8-aaf3-6c0b085a5f4c",
   "metadata": {
    "tags": []
   },
   "outputs": [
    {
     "data": {
      "text/html": [
       "<div>\n",
       "<style scoped>\n",
       "    .dataframe tbody tr th:only-of-type {\n",
       "        vertical-align: middle;\n",
       "    }\n",
       "\n",
       "    .dataframe tbody tr th {\n",
       "        vertical-align: top;\n",
       "    }\n",
       "\n",
       "    .dataframe thead th {\n",
       "        text-align: right;\n",
       "    }\n",
       "</style>\n",
       "<table border=\"1\" class=\"dataframe\">\n",
       "  <thead>\n",
       "    <tr style=\"text-align: right;\">\n",
       "      <th></th>\n",
       "      <th>2374069313</th>\n",
       "      <th>6903008775</th>\n",
       "      <th>6811920695393</th>\n",
       "      <th>452304175135</th>\n",
       "      <th>1419084071009</th>\n",
       "      <th>11300571975</th>\n",
       "      <th>464439297</th>\n",
       "      <th>1850379265</th>\n",
       "      <th>1419080040545</th>\n",
       "      <th>1419071258721</th>\n",
       "      <th>...</th>\n",
       "      <th>762479706209</th>\n",
       "      <th>7004871688289</th>\n",
       "      <th>7015596392545</th>\n",
       "      <th>7020214878305</th>\n",
       "      <th>7020216746081</th>\n",
       "      <th>762476626017</th>\n",
       "      <th>6977998258273</th>\n",
       "      <th>7027545145441</th>\n",
       "      <th>7015596752993</th>\n",
       "      <th>4854625271905</th>\n",
       "    </tr>\n",
       "    <tr>\n",
       "      <th>ProductID</th>\n",
       "      <th></th>\n",
       "      <th></th>\n",
       "      <th></th>\n",
       "      <th></th>\n",
       "      <th></th>\n",
       "      <th></th>\n",
       "      <th></th>\n",
       "      <th></th>\n",
       "      <th></th>\n",
       "      <th></th>\n",
       "      <th></th>\n",
       "      <th></th>\n",
       "      <th></th>\n",
       "      <th></th>\n",
       "      <th></th>\n",
       "      <th></th>\n",
       "      <th></th>\n",
       "      <th></th>\n",
       "      <th></th>\n",
       "      <th></th>\n",
       "      <th></th>\n",
       "    </tr>\n",
       "  </thead>\n",
       "  <tbody>\n",
       "    <tr>\n",
       "      <th>2374069313</th>\n",
       "      <td>1.000000</td>\n",
       "      <td>0.533290</td>\n",
       "      <td>0.104497</td>\n",
       "      <td>0.277929</td>\n",
       "      <td>0.337452</td>\n",
       "      <td>0.272068</td>\n",
       "      <td>0.256159</td>\n",
       "      <td>0.360122</td>\n",
       "      <td>0.296147</td>\n",
       "      <td>0.372379</td>\n",
       "      <td>...</td>\n",
       "      <td>0.194440</td>\n",
       "      <td>0.322201</td>\n",
       "      <td>0.128622</td>\n",
       "      <td>0.175511</td>\n",
       "      <td>0.294379</td>\n",
       "      <td>0.149237</td>\n",
       "      <td>0.079288</td>\n",
       "      <td>0.175648</td>\n",
       "      <td>0.104317</td>\n",
       "      <td>0.241206</td>\n",
       "    </tr>\n",
       "    <tr>\n",
       "      <th>6903008775</th>\n",
       "      <td>0.533290</td>\n",
       "      <td>1.000000</td>\n",
       "      <td>0.084336</td>\n",
       "      <td>0.319705</td>\n",
       "      <td>0.329183</td>\n",
       "      <td>0.321845</td>\n",
       "      <td>0.363030</td>\n",
       "      <td>0.403415</td>\n",
       "      <td>0.228894</td>\n",
       "      <td>0.354260</td>\n",
       "      <td>...</td>\n",
       "      <td>0.113986</td>\n",
       "      <td>0.229323</td>\n",
       "      <td>0.068418</td>\n",
       "      <td>0.069012</td>\n",
       "      <td>0.139331</td>\n",
       "      <td>0.224273</td>\n",
       "      <td>0.083768</td>\n",
       "      <td>0.097502</td>\n",
       "      <td>0.075964</td>\n",
       "      <td>0.110002</td>\n",
       "    </tr>\n",
       "    <tr>\n",
       "      <th>6811920695393</th>\n",
       "      <td>0.104497</td>\n",
       "      <td>0.084336</td>\n",
       "      <td>1.000000</td>\n",
       "      <td>0.027469</td>\n",
       "      <td>0.105704</td>\n",
       "      <td>0.138844</td>\n",
       "      <td>0.096846</td>\n",
       "      <td>0.100709</td>\n",
       "      <td>0.105271</td>\n",
       "      <td>0.104137</td>\n",
       "      <td>...</td>\n",
       "      <td>0.174998</td>\n",
       "      <td>0.130678</td>\n",
       "      <td>0.297267</td>\n",
       "      <td>0.204829</td>\n",
       "      <td>0.168196</td>\n",
       "      <td>0.064821</td>\n",
       "      <td>0.171594</td>\n",
       "      <td>0.179383</td>\n",
       "      <td>0.352009</td>\n",
       "      <td>0.300061</td>\n",
       "    </tr>\n",
       "    <tr>\n",
       "      <th>452304175135</th>\n",
       "      <td>0.277929</td>\n",
       "      <td>0.319705</td>\n",
       "      <td>0.027469</td>\n",
       "      <td>1.000000</td>\n",
       "      <td>0.514592</td>\n",
       "      <td>0.342189</td>\n",
       "      <td>0.387324</td>\n",
       "      <td>0.541328</td>\n",
       "      <td>0.380762</td>\n",
       "      <td>0.494524</td>\n",
       "      <td>...</td>\n",
       "      <td>0.023519</td>\n",
       "      <td>0.237706</td>\n",
       "      <td>0.049674</td>\n",
       "      <td>0.142084</td>\n",
       "      <td>0.090108</td>\n",
       "      <td>0.182343</td>\n",
       "      <td>0.028217</td>\n",
       "      <td>0.050079</td>\n",
       "      <td>0.041942</td>\n",
       "      <td>0.089712</td>\n",
       "    </tr>\n",
       "    <tr>\n",
       "      <th>1419084071009</th>\n",
       "      <td>0.337452</td>\n",
       "      <td>0.329183</td>\n",
       "      <td>0.105704</td>\n",
       "      <td>0.514592</td>\n",
       "      <td>1.000000</td>\n",
       "      <td>0.503117</td>\n",
       "      <td>0.325220</td>\n",
       "      <td>0.552613</td>\n",
       "      <td>0.601742</td>\n",
       "      <td>0.497324</td>\n",
       "      <td>...</td>\n",
       "      <td>0.054942</td>\n",
       "      <td>0.247665</td>\n",
       "      <td>0.240019</td>\n",
       "      <td>0.122463</td>\n",
       "      <td>0.102360</td>\n",
       "      <td>0.262256</td>\n",
       "      <td>0.202049</td>\n",
       "      <td>0.056888</td>\n",
       "      <td>0.047645</td>\n",
       "      <td>0.124521</td>\n",
       "    </tr>\n",
       "  </tbody>\n",
       "</table>\n",
       "<p>5 rows × 80 columns</p>\n",
       "</div>"
      ],
      "text/plain": [
       "               2374069313     6903008775     6811920695393  452304175135   \\\n",
       "ProductID                                                                   \n",
       "2374069313          1.000000       0.533290       0.104497       0.277929   \n",
       "6903008775          0.533290       1.000000       0.084336       0.319705   \n",
       "6811920695393       0.104497       0.084336       1.000000       0.027469   \n",
       "452304175135        0.277929       0.319705       0.027469       1.000000   \n",
       "1419084071009       0.337452       0.329183       0.105704       0.514592   \n",
       "\n",
       "               1419084071009  11300571975    464439297      1850379265     \\\n",
       "ProductID                                                                   \n",
       "2374069313          0.337452       0.272068       0.256159       0.360122   \n",
       "6903008775          0.329183       0.321845       0.363030       0.403415   \n",
       "6811920695393       0.105704       0.138844       0.096846       0.100709   \n",
       "452304175135        0.514592       0.342189       0.387324       0.541328   \n",
       "1419084071009       1.000000       0.503117       0.325220       0.552613   \n",
       "\n",
       "               1419080040545  1419071258721  ...  762479706209   \\\n",
       "ProductID                                    ...                  \n",
       "2374069313          0.296147       0.372379  ...       0.194440   \n",
       "6903008775          0.228894       0.354260  ...       0.113986   \n",
       "6811920695393       0.105271       0.104137  ...       0.174998   \n",
       "452304175135        0.380762       0.494524  ...       0.023519   \n",
       "1419084071009       0.601742       0.497324  ...       0.054942   \n",
       "\n",
       "               7004871688289  7015596392545  7020214878305  7020216746081  \\\n",
       "ProductID                                                                   \n",
       "2374069313          0.322201       0.128622       0.175511       0.294379   \n",
       "6903008775          0.229323       0.068418       0.069012       0.139331   \n",
       "6811920695393       0.130678       0.297267       0.204829       0.168196   \n",
       "452304175135        0.237706       0.049674       0.142084       0.090108   \n",
       "1419084071009       0.247665       0.240019       0.122463       0.102360   \n",
       "\n",
       "               762476626017   6977998258273  7027545145441  7015596752993  \\\n",
       "ProductID                                                                   \n",
       "2374069313          0.149237       0.079288       0.175648       0.104317   \n",
       "6903008775          0.224273       0.083768       0.097502       0.075964   \n",
       "6811920695393       0.064821       0.171594       0.179383       0.352009   \n",
       "452304175135        0.182343       0.028217       0.050079       0.041942   \n",
       "1419084071009       0.262256       0.202049       0.056888       0.047645   \n",
       "\n",
       "               4854625271905  \n",
       "ProductID                     \n",
       "2374069313          0.241206  \n",
       "6903008775          0.110002  \n",
       "6811920695393       0.300061  \n",
       "452304175135        0.089712  \n",
       "1419084071009       0.124521  \n",
       "\n",
       "[5 rows x 80 columns]"
      ]
     },
     "execution_count": 7,
     "metadata": {},
     "output_type": "execute_result"
    }
   ],
   "source": [
    "model = pd.read_csv(os.getcwd()+'\\\\data\\\\RecommenderSystem\\\\contentBased.csv', index_col='ProductID')\n",
    "model.columns = model.columns.astype(np.int64)\n",
    "model.head()"
   ]
  },
  {
   "cell_type": "code",
   "execution_count": 8,
   "id": "afbef8a0-e733-428d-a271-2179d314b318",
   "metadata": {
    "tags": []
   },
   "outputs": [],
   "source": [
    "preference = [\n",
    "    {'ProductID': 464439297, 'Rating': 4},\n",
    "    {'ProductID': 1850379265, 'Rating': 4},\n",
    "    {'ProductID': 2374069313, 'Rating': 5},\n",
    "    {'ProductID': 6903008775, 'Rating': 5},\n",
    "    {'ProductID': 11300571975, 'Rating': 5},\n",
    "    {'ProductID': 452304175135, 'Rating': 5},\n",
    "    {'ProductID': 766219747425, 'Rating': 4},\n",
    "    {'ProductID': 1419071258721, 'Rating': 4},\n",
    "    {'ProductID': 1419080040545, 'Rating': 5},\n",
    "    {'ProductID': 2028338511969, 'Rating': 5},\n",
    "    {'ProductID': 4765085335649, 'Rating': 5}\n",
    "]"
   ]
  },
  {
   "cell_type": "code",
   "execution_count": 9,
   "id": "aa421b88-dbbb-4e09-acb6-d7a6f75727a5",
   "metadata": {
    "tags": []
   },
   "outputs": [],
   "source": [
    "def ContentBased(preference):\n",
    "    preference = pd.DataFrame(preference).set_index('ProductID')['Rating']\n",
    "    result = pd.DataFrame()\n",
    "    for ID in preference.index:\n",
    "        result = pd.concat([result, model[ID].nlargest(10)], axis=1)\n",
    "    result = result.drop(preference.index)\n",
    "    result = result.multiply(preference/5, axis=1)\n",
    "    result = result.mean(axis=1).sort_values(ascending=False)\n",
    "    return result[:3].index.to_list()"
   ]
  },
  {
   "cell_type": "code",
   "execution_count": 10,
   "id": "6b27d3c6-c5a5-42f3-b40b-2e3eea4208f1",
   "metadata": {},
   "outputs": [
    {
     "data": {
      "text/plain": [
       "[6615204560993, 4508393078881, 1419084071009]"
      ]
     },
     "execution_count": 10,
     "metadata": {},
     "output_type": "execute_result"
    }
   ],
   "source": [
    "ContentBased(preference)"
   ]
  },
  {
   "cell_type": "code",
   "execution_count": null,
   "id": "6e144e81-9bcf-451e-a364-e379f0d7b5da",
   "metadata": {},
   "outputs": [],
   "source": []
  },
  {
   "cell_type": "code",
   "execution_count": 11,
   "id": "6362e814-e214-433c-bf7e-c412773a9dd7",
   "metadata": {},
   "outputs": [],
   "source": [
    "def parseFeedback(feedback, preference, keep):\n",
    "    try:\n",
    "        for x in feedback:\n",
    "            if x['Interested'] == True:\n",
    "                rating = 5            \n",
    "                keep.append(x['ProductID'])\n",
    "            elif x['Interested'] == False:\n",
    "                rating = 1\n",
    "            else:\n",
    "                return False\n",
    "            preference.append({'ProductID':x['ProductID'], 'Rating':rating})\n",
    "            return True\n",
    "    except Exception as e:\n",
    "        return False\n",
    "\n",
    "def ContentBased(preference, feedback=[]):\n",
    "    \n",
    "    keep = []\n",
    "    if feedback and not parseFeedback(feedback, preference, keep): return False\n",
    "    \n",
    "    preference = pd.DataFrame(preference).set_index('ProductID')['Rating']\n",
    "    result = pd.DataFrame()\n",
    "    for ID in preference.index:\n",
    "        result = pd.concat([result, model[ID].nlargest(10)], axis=1)\n",
    "    \n",
    "    if keep != []: result = result.drop([x for x in preference.index if x not in keep])\n",
    "    else: result = result.drop(preference.index)\n",
    "    \n",
    "    result = result.multiply(preference/5, axis=1)\n",
    "    result = result.mean(axis=1).sort_values(ascending=False)\n",
    "    \n",
    "    return result[:3].index.to_list()"
   ]
  },
  {
   "cell_type": "code",
   "execution_count": 12,
   "id": "f49bf16c-184f-4317-aeae-c37904feb4f0",
   "metadata": {},
   "outputs": [
    {
     "data": {
      "text/plain": [
       "[6615204560993, 4508393078881, 1419084071009]"
      ]
     },
     "execution_count": 12,
     "metadata": {},
     "output_type": "execute_result"
    }
   ],
   "source": [
    "ContentBased(preference)"
   ]
  },
  {
   "cell_type": "code",
   "execution_count": 13,
   "id": "8e7087f9-1a8f-4df4-8d15-8fdaea66a1e2",
   "metadata": {
    "tags": []
   },
   "outputs": [
    {
     "data": {
      "text/plain": [
       "[4508393078881, 1419084071009, 10935947527]"
      ]
     },
     "execution_count": 13,
     "metadata": {},
     "output_type": "execute_result"
    }
   ],
   "source": [
    "ContentBased(preference, feedback=[{'ProductID':6615204560993, 'Interested':False}])"
   ]
  },
  {
   "cell_type": "markdown",
   "id": "a4c7faad-0bd9-4dee-8a03-129baca1326c",
   "metadata": {
    "tags": []
   },
   "source": [
    "## Log Process"
   ]
  },
  {
   "cell_type": "code",
   "execution_count": 14,
   "id": "e49a7c29-d540-40a9-bd4a-94edb68e7daf",
   "metadata": {
    "tags": []
   },
   "outputs": [
    {
     "data": {
      "text/html": [
       "<div>\n",
       "<style scoped>\n",
       "    .dataframe tbody tr th:only-of-type {\n",
       "        vertical-align: middle;\n",
       "    }\n",
       "\n",
       "    .dataframe tbody tr th {\n",
       "        vertical-align: top;\n",
       "    }\n",
       "\n",
       "    .dataframe thead th {\n",
       "        text-align: right;\n",
       "    }\n",
       "</style>\n",
       "<table border=\"1\" class=\"dataframe\">\n",
       "  <thead>\n",
       "    <tr style=\"text-align: right;\">\n",
       "      <th></th>\n",
       "      <th>Tags</th>\n",
       "    </tr>\n",
       "    <tr>\n",
       "      <th>ID</th>\n",
       "      <th></th>\n",
       "    </tr>\n",
       "  </thead>\n",
       "  <tbody>\n",
       "    <tr>\n",
       "      <th>2374069313</th>\n",
       "      <td>[Africa, Blend, Central America, Chocolate, Es...</td>\n",
       "    </tr>\n",
       "    <tr>\n",
       "      <th>6903008775</th>\n",
       "      <td>[Asia &amp; Pacific, Blend, Bold, Caramel, Chocola...</td>\n",
       "    </tr>\n",
       "    <tr>\n",
       "      <th>6811920695393</th>\n",
       "      <td>[Anaerobic, Asia &amp; Pacific, Best Coffee, Filte...</td>\n",
       "    </tr>\n",
       "    <tr>\n",
       "      <th>452304175135</th>\n",
       "      <td>[Bestseller, Blend, Bold, Caramel, Chocolate, ...</td>\n",
       "    </tr>\n",
       "    <tr>\n",
       "      <th>1419084071009</th>\n",
       "      <td>[Blend, Bold, Chocolate, Espresso, Malaysia, M...</td>\n",
       "    </tr>\n",
       "  </tbody>\n",
       "</table>\n",
       "</div>"
      ],
      "text/plain": [
       "                                                            Tags\n",
       "ID                                                              \n",
       "2374069313     [Africa, Blend, Central America, Chocolate, Es...\n",
       "6903008775     [Asia & Pacific, Blend, Bold, Caramel, Chocola...\n",
       "6811920695393  [Anaerobic, Asia & Pacific, Best Coffee, Filte...\n",
       "452304175135   [Bestseller, Blend, Bold, Caramel, Chocolate, ...\n",
       "1419084071009  [Blend, Bold, Chocolate, Espresso, Malaysia, M..."
      ]
     },
     "execution_count": 14,
     "metadata": {},
     "output_type": "execute_result"
    }
   ],
   "source": [
    "product = pd.read_csv(baseDir+'\\\\product.csv', index_col='ID', converters={'Tags':literal_eval})\n",
    "product.head()"
   ]
  },
  {
   "cell_type": "code",
   "execution_count": 21,
   "id": "4f0c89d8-011c-4589-a346-26edebee57ab",
   "metadata": {
    "tags": []
   },
   "outputs": [],
   "source": [
    "from io import BytesIO\n",
    "import base64\n",
    "\n",
    "def contentBasedDescription(preference):\n",
    "    description = 'The recommendation is derived solely with the description of the product. It uses properties of the coffee bean including its vendor, roast level, variety, origin, tasting notes, price point, and etc.'\n",
    "    wordList = product.loc[[x['ProductID'] for x in preference]]\n",
    "    wordList['Rating'] = [x['Rating'] for x in preference]\n",
    "    wordList = wordList.explode('Tags').groupby('Tags')['Rating'].sum()\n",
    "    wordCloud = WordCloud(background_color='white').generate_from_frequencies(wordList).to_image()\n",
    "    image = BytesIO()\n",
    "    wordCloud.save(image, format='png')\n",
    "    return description, image.getvalue()"
   ]
  },
  {
   "cell_type": "code",
   "execution_count": 22,
   "id": "91ff9f46-ebc0-40c3-a6d8-7fda3306e6b8",
   "metadata": {
    "tags": []
   },
   "outputs": [],
   "source": [
    "description, image = contentBasedDescription(preference)"
   ]
  },
  {
   "cell_type": "code",
   "execution_count": 20,
   "id": "ec9dd217-c1a5-4f99-b2d4-3e80a8110550",
   "metadata": {},
   "outputs": [
    {
     "data": {
      "image/jpeg": "[encoded data removed]",
      "image/png": "[encoded data removed]",
      "text/plain": [
       "<PIL.Image.Image image mode=RGB size=400x200>"
      ]
     },
     "execution_count": 20,
     "metadata": {},
     "output_type": "execute_result"
    }
   ],
   "source": [
    "WordCloud(background_color='white').generate_from_frequencies(wordList).to_image()"
   ]
  },
  {
   "cell_type": "code",
   "execution_count": null,
   "id": "54ec5eff-616f-46ee-8d55-04ccdb313823",
   "metadata": {},
   "outputs": [],
   "source": []
  }
 ],
 "metadata": {
  "kernelspec": {
   "display_name": "Python 3 (ipykernel)",
   "language": "python",
   "name": "python3"
  },
  "language_info": {
   "codemirror_mode": {
    "name": "ipython",
    "version": 3
   },
   "file_extension": ".py",
   "mimetype": "text/x-python",
   "name": "python",
   "nbconvert_exporter": "python",
   "pygments_lexer": "ipython3",
   "version": "3.11.4"
  }
 },
 "nbformat": 4,
 "nbformat_minor": 5
}
