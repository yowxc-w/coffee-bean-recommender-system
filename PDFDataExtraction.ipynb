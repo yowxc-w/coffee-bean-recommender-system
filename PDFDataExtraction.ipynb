{
 "cells": [
  {
   "cell_type": "code",
   "execution_count": 1,
   "id": "f6fd2d6c-ac22-43dc-90b8-38046dcf0ec8",
   "metadata": {
    "tags": []
   },
   "outputs": [],
   "source": [
    "import os\n",
    "import pandas as pd\n",
    "from pdfquery import PDFQuery\n",
    "from nltk.tokenize import wordpunct_tokenize\n",
    "from nltk.stem import SnowballStemmer\n",
    "import string\n",
    "\n",
    "inputDir = os.getcwd()+'\\\\data'"
   ]
  },
  {
   "cell_type": "code",
   "execution_count": 2,
   "id": "672160e2-c283-490a-9767-ee472c740877",
   "metadata": {
    "tags": []
   },
   "outputs": [],
   "source": [
    "#Load pdf to memory\n",
    "pdf = PDFQuery(inputDir+'\\\\FYP-CoffeeAttribute.pdf')\n",
    "pdf.load()\n",
    "\n",
    "#Output simplified pdf structure\n",
    "pdf.tree.write(inputDir+'\\\\FYP-CoffeeAttribute-XML.txt', pretty_print=True)"
   ]
  },
  {
   "cell_type": "code",
   "execution_count": 3,
   "id": "38f01d86-316b-41a4-8a48-a91efe9867c8",
   "metadata": {
    "tags": []
   },
   "outputs": [
    {
     "data": {
      "text/plain": [
       "(20, <Element LTTextBoxHorizontal at 0x24252fae530>)"
      ]
     },
     "execution_count": 3,
     "metadata": {},
     "output_type": "execute_result"
    }
   ],
   "source": [
    "#Extract section\n",
    "sectionList = pdf.pq(\"LTPage[pageid='4'] LTTextBoxHorizontal, LTPage[pageid='5'] LTTextBoxHorizontal\")\n",
    "len(sectionList), sectionList[0]"
   ]
  },
  {
   "cell_type": "code",
   "execution_count": 4,
   "id": "7408111a-1e78-4698-a149-4a7da147b0d0",
   "metadata": {
    "tags": []
   },
   "outputs": [
    {
     "data": {
      "text/plain": [
       "(17, 17)"
      ]
     },
     "execution_count": 4,
     "metadata": {},
     "output_type": "execute_result"
    }
   ],
   "source": [
    "#Extract data\n",
    "categoryList = []\n",
    "tagsList = []\n",
    "\n",
    "for i in range(len(sectionList)):\n",
    "    section = sectionList[i].cssselect('LTTextLineHorizontal')\n",
    "    \n",
    "    try:\n",
    "        category = section[0]\n",
    "    except:\n",
    "        continue\n",
    "    \n",
    "    if category.attrib['height'] == '16.455':\n",
    "        categoryList.append(category.text)\n",
    "        tagsList.append([node.text for node in section[1:]])\n",
    "    else:\n",
    "        tagsList[-1] += [node.text for node in section]\n",
    "        \n",
    "len(categoryList), len(tagsList)"
   ]
  },
  {
   "cell_type": "code",
   "execution_count": 5,
   "id": "1fc29338-d674-49cf-b5d2-aa2b34f85580",
   "metadata": {
    "tags": []
   },
   "outputs": [
    {
     "data": {
      "text/html": [
       "<div>\n",
       "<style scoped>\n",
       "    .dataframe tbody tr th:only-of-type {\n",
       "        vertical-align: middle;\n",
       "    }\n",
       "\n",
       "    .dataframe tbody tr th {\n",
       "        vertical-align: top;\n",
       "    }\n",
       "\n",
       "    .dataframe thead th {\n",
       "        text-align: right;\n",
       "    }\n",
       "</style>\n",
       "<table border=\"1\" class=\"dataframe\">\n",
       "  <thead>\n",
       "    <tr style=\"text-align: right;\">\n",
       "      <th></th>\n",
       "      <th>Category</th>\n",
       "      <th>Tags</th>\n",
       "    </tr>\n",
       "  </thead>\n",
       "  <tbody>\n",
       "    <tr>\n",
       "      <th>0</th>\n",
       "      <td>Taste Basics ....................................</td>\n",
       "      <td>[Sweet , Sour , Bitter , Salty ]</td>\n",
       "    </tr>\n",
       "    <tr>\n",
       "      <th>1</th>\n",
       "      <td>Alcohol/Fermented ...............................</td>\n",
       "      <td>[Alcohol , Whiskey , Winey , Fermented , Overr...</td>\n",
       "    </tr>\n",
       "    <tr>\n",
       "      <th>2</th>\n",
       "      <td>Fruity ..........................................</td>\n",
       "      <td>[Fruity , Berry , Strawberry , Raspberry , Blu...</td>\n",
       "    </tr>\n",
       "    <tr>\n",
       "      <th>3</th>\n",
       "      <td>Sour/Acid .......................................</td>\n",
       "      <td>[Sour , Sour Aromatics , Acetic acid , Butyric...</td>\n",
       "    </tr>\n",
       "    <tr>\n",
       "      <th>4</th>\n",
       "      <td>Green/Vegetative ................................</td>\n",
       "      <td>[Olive Oil , Raw , Under–ripe , Peapod , Green...</td>\n",
       "    </tr>\n",
       "  </tbody>\n",
       "</table>\n",
       "</div>"
      ],
      "text/plain": [
       "                                            Category  \\\n",
       "0  Taste Basics ....................................   \n",
       "1  Alcohol/Fermented ...............................   \n",
       "2  Fruity ..........................................   \n",
       "3  Sour/Acid .......................................   \n",
       "4  Green/Vegetative ................................   \n",
       "\n",
       "                                                Tags  \n",
       "0                   [Sweet , Sour , Bitter , Salty ]  \n",
       "1  [Alcohol , Whiskey , Winey , Fermented , Overr...  \n",
       "2  [Fruity , Berry , Strawberry , Raspberry , Blu...  \n",
       "3  [Sour , Sour Aromatics , Acetic acid , Butyric...  \n",
       "4  [Olive Oil , Raw , Under–ripe , Peapod , Green...  "
      ]
     },
     "execution_count": 5,
     "metadata": {},
     "output_type": "execute_result"
    }
   ],
   "source": [
    "df = pd.DataFrame(data={\n",
    "    \"Category\": categoryList,\n",
    "    \"Tags\": tagsList\n",
    "})\n",
    "df.head()"
   ]
  },
  {
   "cell_type": "code",
   "execution_count": 6,
   "id": "985bf068-35a7-48e0-8dd0-f7e9ff3a3e9e",
   "metadata": {
    "tags": []
   },
   "outputs": [
    {
     "data": {
      "text/html": [
       "<div>\n",
       "<style scoped>\n",
       "    .dataframe tbody tr th:only-of-type {\n",
       "        vertical-align: middle;\n",
       "    }\n",
       "\n",
       "    .dataframe tbody tr th {\n",
       "        vertical-align: top;\n",
       "    }\n",
       "\n",
       "    .dataframe thead th {\n",
       "        text-align: right;\n",
       "    }\n",
       "</style>\n",
       "<table border=\"1\" class=\"dataframe\">\n",
       "  <thead>\n",
       "    <tr style=\"text-align: right;\">\n",
       "      <th></th>\n",
       "      <th>Category</th>\n",
       "      <th>Tags</th>\n",
       "    </tr>\n",
       "  </thead>\n",
       "  <tbody>\n",
       "    <tr>\n",
       "      <th>0</th>\n",
       "      <td>Taste Basics</td>\n",
       "      <td>[Sweet , Sour , Bitter , Salty ]</td>\n",
       "    </tr>\n",
       "    <tr>\n",
       "      <th>1</th>\n",
       "      <td>Alcohol/Fermented</td>\n",
       "      <td>[Alcohol , Whiskey , Winey , Fermented , Overr...</td>\n",
       "    </tr>\n",
       "    <tr>\n",
       "      <th>2</th>\n",
       "      <td>Fruity</td>\n",
       "      <td>[Fruity , Berry , Strawberry , Raspberry , Blu...</td>\n",
       "    </tr>\n",
       "    <tr>\n",
       "      <th>3</th>\n",
       "      <td>Sour/Acid</td>\n",
       "      <td>[Sour , Sour Aromatics , Acetic acid , Butyric...</td>\n",
       "    </tr>\n",
       "    <tr>\n",
       "      <th>4</th>\n",
       "      <td>Green/Vegetative</td>\n",
       "      <td>[Olive Oil , Raw , Under–ripe , Peapod , Green...</td>\n",
       "    </tr>\n",
       "  </tbody>\n",
       "</table>\n",
       "</div>"
      ],
      "text/plain": [
       "            Category                                               Tags\n",
       "0       Taste Basics                   [Sweet , Sour , Bitter , Salty ]\n",
       "1  Alcohol/Fermented  [Alcohol , Whiskey , Winey , Fermented , Overr...\n",
       "2             Fruity  [Fruity , Berry , Strawberry , Raspberry , Blu...\n",
       "3          Sour/Acid  [Sour , Sour Aromatics , Acetic acid , Butyric...\n",
       "4   Green/Vegetative  [Olive Oil , Raw , Under–ripe , Peapod , Green..."
      ]
     },
     "execution_count": 6,
     "metadata": {},
     "output_type": "execute_result"
    }
   ],
   "source": [
    "charList = ['.'] + [str(i) for i in range(0, 10)]\n",
    "df.Category = df.Category.apply(lambda x: ''.join([i for i in x if i not in charList]))\n",
    "df.Category = df.Category.apply(lambda x: x[:-2])\n",
    "df.head()"
   ]
  },
  {
   "cell_type": "code",
   "execution_count": 7,
   "id": "273a83c2-8b00-4990-9713-685b041fa26a",
   "metadata": {
    "tags": []
   },
   "outputs": [
    {
     "data": {
      "text/html": [
       "<div>\n",
       "<style scoped>\n",
       "    .dataframe tbody tr th:only-of-type {\n",
       "        vertical-align: middle;\n",
       "    }\n",
       "\n",
       "    .dataframe tbody tr th {\n",
       "        vertical-align: top;\n",
       "    }\n",
       "\n",
       "    .dataframe thead th {\n",
       "        text-align: right;\n",
       "    }\n",
       "</style>\n",
       "<table border=\"1\" class=\"dataframe\">\n",
       "  <thead>\n",
       "    <tr style=\"text-align: right;\">\n",
       "      <th></th>\n",
       "      <th>Category</th>\n",
       "      <th>Tags</th>\n",
       "    </tr>\n",
       "  </thead>\n",
       "  <tbody>\n",
       "    <tr>\n",
       "      <th>0</th>\n",
       "      <td>Taste Basics</td>\n",
       "      <td>[Sweet, Sour, Bitter, Salty]</td>\n",
       "    </tr>\n",
       "    <tr>\n",
       "      <th>1</th>\n",
       "      <td>Alcohol/Fermented</td>\n",
       "      <td>[Alcohol, Whiskey, Winey, Fermented, Overripe,...</td>\n",
       "    </tr>\n",
       "    <tr>\n",
       "      <th>2</th>\n",
       "      <td>Fruity</td>\n",
       "      <td>[Fruity, Berry, Strawberry, Raspberry, Blueber...</td>\n",
       "    </tr>\n",
       "    <tr>\n",
       "      <th>3</th>\n",
       "      <td>Sour/Acid</td>\n",
       "      <td>[Sour, Sour, Aromatics, Acetic, acid, Butyric,...</td>\n",
       "    </tr>\n",
       "    <tr>\n",
       "      <th>4</th>\n",
       "      <td>Green/Vegetative</td>\n",
       "      <td>[Olive, Oil, Raw, Under, –, ripe, Peapod, Gree...</td>\n",
       "    </tr>\n",
       "  </tbody>\n",
       "</table>\n",
       "</div>"
      ],
      "text/plain": [
       "            Category                                               Tags\n",
       "0       Taste Basics                       [Sweet, Sour, Bitter, Salty]\n",
       "1  Alcohol/Fermented  [Alcohol, Whiskey, Winey, Fermented, Overripe,...\n",
       "2             Fruity  [Fruity, Berry, Strawberry, Raspberry, Blueber...\n",
       "3          Sour/Acid  [Sour, Sour, Aromatics, Acetic, acid, Butyric,...\n",
       "4   Green/Vegetative  [Olive, Oil, Raw, Under, –, ripe, Peapod, Gree..."
      ]
     },
     "execution_count": 7,
     "metadata": {},
     "output_type": "execute_result"
    }
   ],
   "source": [
    "df.Tags = df.Tags.apply(lambda x: wordpunct_tokenize(' '.join(x)))\n",
    "df.head()"
   ]
  },
  {
   "cell_type": "code",
   "execution_count": 8,
   "id": "fd66c6d7-3c08-43fb-97a0-b89c69bfd879",
   "metadata": {
    "tags": []
   },
   "outputs": [
    {
     "data": {
      "text/html": [
       "<div>\n",
       "<style scoped>\n",
       "    .dataframe tbody tr th:only-of-type {\n",
       "        vertical-align: middle;\n",
       "    }\n",
       "\n",
       "    .dataframe tbody tr th {\n",
       "        vertical-align: top;\n",
       "    }\n",
       "\n",
       "    .dataframe thead th {\n",
       "        text-align: right;\n",
       "    }\n",
       "</style>\n",
       "<table border=\"1\" class=\"dataframe\">\n",
       "  <thead>\n",
       "    <tr style=\"text-align: right;\">\n",
       "      <th></th>\n",
       "      <th>Category</th>\n",
       "      <th>Tags</th>\n",
       "    </tr>\n",
       "  </thead>\n",
       "  <tbody>\n",
       "    <tr>\n",
       "      <th>0</th>\n",
       "      <td>Taste Basics</td>\n",
       "      <td>[Sweet, Sour, Bitter, Salty]</td>\n",
       "    </tr>\n",
       "    <tr>\n",
       "      <th>1</th>\n",
       "      <td>Alcohol/Fermented</td>\n",
       "      <td>[Alcohol, Whiskey, Winey, Fermented, Overripe,...</td>\n",
       "    </tr>\n",
       "    <tr>\n",
       "      <th>2</th>\n",
       "      <td>Fruity</td>\n",
       "      <td>[Fruity, Berry, Strawberry, Raspberry, Blueber...</td>\n",
       "    </tr>\n",
       "    <tr>\n",
       "      <th>3</th>\n",
       "      <td>Sour/Acid</td>\n",
       "      <td>[Sour, Sour, Aromatics, Acetic, acid, Butyric,...</td>\n",
       "    </tr>\n",
       "    <tr>\n",
       "      <th>4</th>\n",
       "      <td>Green/Vegetative</td>\n",
       "      <td>[Olive, Oil, Raw, Under, ripe, Peapod, Green, ...</td>\n",
       "    </tr>\n",
       "  </tbody>\n",
       "</table>\n",
       "</div>"
      ],
      "text/plain": [
       "            Category                                               Tags\n",
       "0       Taste Basics                       [Sweet, Sour, Bitter, Salty]\n",
       "1  Alcohol/Fermented  [Alcohol, Whiskey, Winey, Fermented, Overripe,...\n",
       "2             Fruity  [Fruity, Berry, Strawberry, Raspberry, Blueber...\n",
       "3          Sour/Acid  [Sour, Sour, Aromatics, Acetic, acid, Butyric,...\n",
       "4   Green/Vegetative  [Olive, Oil, Raw, Under, ripe, Peapod, Green, ..."
      ]
     },
     "execution_count": 8,
     "metadata": {},
     "output_type": "execute_result"
    }
   ],
   "source": [
    "charList = string.punctuation + '–'\n",
    "df.Tags = df.Tags.apply(lambda x: [i for i in x if i not in charList])\n",
    "df.head()"
   ]
  },
  {
   "cell_type": "code",
   "execution_count": 9,
   "id": "7c1252ba-a812-46b6-bc00-5bd21c2c43e9",
   "metadata": {
    "tags": []
   },
   "outputs": [
    {
     "data": {
      "text/html": [
       "<div>\n",
       "<style scoped>\n",
       "    .dataframe tbody tr th:only-of-type {\n",
       "        vertical-align: middle;\n",
       "    }\n",
       "\n",
       "    .dataframe tbody tr th {\n",
       "        vertical-align: top;\n",
       "    }\n",
       "\n",
       "    .dataframe thead th {\n",
       "        text-align: right;\n",
       "    }\n",
       "</style>\n",
       "<table border=\"1\" class=\"dataframe\">\n",
       "  <thead>\n",
       "    <tr style=\"text-align: right;\">\n",
       "      <th></th>\n",
       "      <th>Category</th>\n",
       "      <th>Tags</th>\n",
       "    </tr>\n",
       "  </thead>\n",
       "  <tbody>\n",
       "    <tr>\n",
       "      <th>0</th>\n",
       "      <td>Taste Basics</td>\n",
       "      <td>Sweet</td>\n",
       "    </tr>\n",
       "    <tr>\n",
       "      <th>1</th>\n",
       "      <td>Taste Basics</td>\n",
       "      <td>Sour</td>\n",
       "    </tr>\n",
       "    <tr>\n",
       "      <th>2</th>\n",
       "      <td>Taste Basics</td>\n",
       "      <td>Bitter</td>\n",
       "    </tr>\n",
       "    <tr>\n",
       "      <th>3</th>\n",
       "      <td>Taste Basics</td>\n",
       "      <td>Salty</td>\n",
       "    </tr>\n",
       "    <tr>\n",
       "      <th>4</th>\n",
       "      <td>Alcohol/Fermented</td>\n",
       "      <td>Alcohol</td>\n",
       "    </tr>\n",
       "  </tbody>\n",
       "</table>\n",
       "</div>"
      ],
      "text/plain": [
       "            Category     Tags\n",
       "0       Taste Basics    Sweet\n",
       "1       Taste Basics     Sour\n",
       "2       Taste Basics   Bitter\n",
       "3       Taste Basics    Salty\n",
       "4  Alcohol/Fermented  Alcohol"
      ]
     },
     "execution_count": 9,
     "metadata": {},
     "output_type": "execute_result"
    }
   ],
   "source": [
    "df = df.explode('Tags').reset_index(drop=True)\n",
    "df.Tags = df.Tags.str.capitalize()\n",
    "df.head()"
   ]
  },
  {
   "cell_type": "code",
   "execution_count": 10,
   "id": "7d25bd89-1d1c-48db-950c-f16a452af8cb",
   "metadata": {
    "tags": []
   },
   "outputs": [
    {
     "data": {
      "text/html": [
       "<div>\n",
       "<style scoped>\n",
       "    .dataframe tbody tr th:only-of-type {\n",
       "        vertical-align: middle;\n",
       "    }\n",
       "\n",
       "    .dataframe tbody tr th {\n",
       "        vertical-align: top;\n",
       "    }\n",
       "\n",
       "    .dataframe thead th {\n",
       "        text-align: right;\n",
       "    }\n",
       "</style>\n",
       "<table border=\"1\" class=\"dataframe\">\n",
       "  <thead>\n",
       "    <tr style=\"text-align: right;\">\n",
       "      <th></th>\n",
       "      <th>Category</th>\n",
       "      <th>Tags</th>\n",
       "      <th>ProcessedTags</th>\n",
       "    </tr>\n",
       "  </thead>\n",
       "  <tbody>\n",
       "    <tr>\n",
       "      <th>0</th>\n",
       "      <td>Taste Basics</td>\n",
       "      <td>Sweet</td>\n",
       "      <td>sweet</td>\n",
       "    </tr>\n",
       "    <tr>\n",
       "      <th>1</th>\n",
       "      <td>Taste Basics</td>\n",
       "      <td>Sour</td>\n",
       "      <td>sour</td>\n",
       "    </tr>\n",
       "    <tr>\n",
       "      <th>2</th>\n",
       "      <td>Taste Basics</td>\n",
       "      <td>Bitter</td>\n",
       "      <td>bitter</td>\n",
       "    </tr>\n",
       "    <tr>\n",
       "      <th>3</th>\n",
       "      <td>Taste Basics</td>\n",
       "      <td>Salty</td>\n",
       "      <td>salti</td>\n",
       "    </tr>\n",
       "    <tr>\n",
       "      <th>4</th>\n",
       "      <td>Alcohol/Fermented</td>\n",
       "      <td>Alcohol</td>\n",
       "      <td>alcohol</td>\n",
       "    </tr>\n",
       "  </tbody>\n",
       "</table>\n",
       "</div>"
      ],
      "text/plain": [
       "            Category     Tags ProcessedTags\n",
       "0       Taste Basics    Sweet         sweet\n",
       "1       Taste Basics     Sour          sour\n",
       "2       Taste Basics   Bitter        bitter\n",
       "3       Taste Basics    Salty         salti\n",
       "4  Alcohol/Fermented  Alcohol       alcohol"
      ]
     },
     "execution_count": 10,
     "metadata": {},
     "output_type": "execute_result"
    }
   ],
   "source": [
    "stemmer = SnowballStemmer(language='english')\n",
    "df['ProcessedTags'] = df.Tags.apply(lambda x: stemmer.stem(x))\n",
    "df.head()"
   ]
  },
  {
   "cell_type": "code",
   "execution_count": 11,
   "id": "5f7f23e2-d8f6-4925-b038-5f147231327f",
   "metadata": {},
   "outputs": [],
   "source": [
    "df.to_csv(inputDir+'\\\\category.csv', index=False)"
   ]
  },
  {
   "cell_type": "code",
   "execution_count": null,
   "id": "133c6349-dfd9-494b-9b8f-31d9766b751b",
   "metadata": {},
   "outputs": [],
   "source": []
  }
 ],
 "metadata": {
  "kernelspec": {
   "display_name": "Python 3 (ipykernel)",
   "language": "python",
   "name": "python3"
  },
  "language_info": {
   "codemirror_mode": {
    "name": "ipython",
    "version": 3
   },
   "file_extension": ".py",
   "mimetype": "text/x-python",
   "name": "python",
   "nbconvert_exporter": "python",
   "pygments_lexer": "ipython3",
   "version": "3.11.4"
  }
 },
 "nbformat": 4,
 "nbformat_minor": 5
}
