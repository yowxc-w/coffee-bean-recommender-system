{
 "cells": [
  {
   "cell_type": "markdown",
   "id": "bab9c29f-e24d-4a6f-9db4-040f6bf5eb76",
   "metadata": {
    "tags": []
   },
   "source": [
    "# Collaborative Based Filtering\n",
    "---"
   ]
  },
  {
   "cell_type": "code",
   "execution_count": 1,
   "id": "e75b723b-15e8-4402-84e7-e262ca580790",
   "metadata": {
    "tags": []
   },
   "outputs": [],
   "source": [
    "import os\n",
    "import pandas as pd\n",
    "from ast import literal_eval\n",
    "import numpy as np\n",
    "from wordcloud import WordCloud\n",
    "import matplotlib.pyplot as plt\n",
    "\n",
    "from sklearn.preprocessing import MinMaxScaler\n",
    "from sklearn.feature_extraction.text import CountVectorizer\n",
    "from sklearn.feature_extraction.text import TfidfVectorizer\n",
    "from sklearn.metrics.pairwise import cosine_similarity\n",
    "from sklearn.metrics import mean_squared_error"
   ]
  },
  {
   "cell_type": "markdown",
   "id": "c8345803-1217-4957-a972-9a6eb676eb6b",
   "metadata": {
    "tags": []
   },
   "source": [
    "## General Settings"
   ]
  },
  {
   "cell_type": "code",
   "execution_count": 2,
   "id": "c7af6bfe-b05e-49b5-97bf-106f4d6d42be",
   "metadata": {
    "tags": []
   },
   "outputs": [],
   "source": [
    "#Define Saving Dir\n",
    "baseDir = os.getcwd()+'\\\\data\\\\PreProcessorData'"
   ]
  },
  {
   "cell_type": "markdown",
   "id": "8cbef4cf-2bd6-4779-a776-cc9020925c8b",
   "metadata": {},
   "source": [
    "## Building Model"
   ]
  },
  {
   "cell_type": "code",
   "execution_count": 3,
   "id": "7f630a84-c2f4-4310-a126-50d0f4fad3c7",
   "metadata": {
    "tags": []
   },
   "outputs": [
    {
     "data": {
      "text/plain": [
       "(1660, 4)"
      ]
     },
     "execution_count": 3,
     "metadata": {},
     "output_type": "execute_result"
    }
   ],
   "source": [
    "review = pd.read_csv(baseDir+'\\\\review.csv')\n",
    "review.shape"
   ]
  },
  {
   "cell_type": "code",
   "execution_count": 4,
   "id": "f18d1c73-a27b-488b-b0a3-cefd018e48f4",
   "metadata": {
    "tags": []
   },
   "outputs": [
    {
     "data": {
      "text/html": [
       "<div>\n",
       "<style scoped>\n",
       "    .dataframe tbody tr th:only-of-type {\n",
       "        vertical-align: middle;\n",
       "    }\n",
       "\n",
       "    .dataframe tbody tr th {\n",
       "        vertical-align: top;\n",
       "    }\n",
       "\n",
       "    .dataframe thead th {\n",
       "        text-align: right;\n",
       "    }\n",
       "</style>\n",
       "<table border=\"1\" class=\"dataframe\">\n",
       "  <thead>\n",
       "    <tr style=\"text-align: right;\">\n",
       "      <th>ID</th>\n",
       "      <th>464439297</th>\n",
       "      <th>1850379265</th>\n",
       "      <th>1925374721</th>\n",
       "      <th>2374069313</th>\n",
       "      <th>3619829639</th>\n",
       "      <th>5723884103</th>\n",
       "      <th>6903008775</th>\n",
       "      <th>10148981767</th>\n",
       "      <th>10212908615</th>\n",
       "      <th>10935947527</th>\n",
       "      <th>...</th>\n",
       "      <th>6907877032033</th>\n",
       "      <th>6907881390177</th>\n",
       "      <th>6966634250337</th>\n",
       "      <th>6966653583457</th>\n",
       "      <th>6966658924641</th>\n",
       "      <th>6976031522913</th>\n",
       "      <th>6977998258273</th>\n",
       "      <th>6983550599265</th>\n",
       "      <th>6983557021793</th>\n",
       "      <th>6993170825313</th>\n",
       "    </tr>\n",
       "    <tr>\n",
       "      <th>User</th>\n",
       "      <th></th>\n",
       "      <th></th>\n",
       "      <th></th>\n",
       "      <th></th>\n",
       "      <th></th>\n",
       "      <th></th>\n",
       "      <th></th>\n",
       "      <th></th>\n",
       "      <th></th>\n",
       "      <th></th>\n",
       "      <th></th>\n",
       "      <th></th>\n",
       "      <th></th>\n",
       "      <th></th>\n",
       "      <th></th>\n",
       "      <th></th>\n",
       "      <th></th>\n",
       "      <th></th>\n",
       "      <th></th>\n",
       "      <th></th>\n",
       "      <th></th>\n",
       "    </tr>\n",
       "  </thead>\n",
       "  <tbody>\n",
       "    <tr>\n",
       "      <th>Aa</th>\n",
       "      <td>0.0</td>\n",
       "      <td>0.0</td>\n",
       "      <td>0.0</td>\n",
       "      <td>4.0</td>\n",
       "      <td>0.0</td>\n",
       "      <td>0.0</td>\n",
       "      <td>0.0</td>\n",
       "      <td>0.0</td>\n",
       "      <td>0.0</td>\n",
       "      <td>0.0</td>\n",
       "      <td>...</td>\n",
       "      <td>0.0</td>\n",
       "      <td>0.0</td>\n",
       "      <td>0.0</td>\n",
       "      <td>0.0</td>\n",
       "      <td>0.0</td>\n",
       "      <td>0.0</td>\n",
       "      <td>0.0</td>\n",
       "      <td>0.0</td>\n",
       "      <td>0.0</td>\n",
       "      <td>0.0</td>\n",
       "    </tr>\n",
       "    <tr>\n",
       "      <th>Aaron K.</th>\n",
       "      <td>0.0</td>\n",
       "      <td>0.0</td>\n",
       "      <td>0.0</td>\n",
       "      <td>0.0</td>\n",
       "      <td>0.0</td>\n",
       "      <td>0.0</td>\n",
       "      <td>0.0</td>\n",
       "      <td>0.0</td>\n",
       "      <td>0.0</td>\n",
       "      <td>0.0</td>\n",
       "      <td>...</td>\n",
       "      <td>0.0</td>\n",
       "      <td>0.0</td>\n",
       "      <td>0.0</td>\n",
       "      <td>0.0</td>\n",
       "      <td>0.0</td>\n",
       "      <td>0.0</td>\n",
       "      <td>0.0</td>\n",
       "      <td>0.0</td>\n",
       "      <td>0.0</td>\n",
       "      <td>0.0</td>\n",
       "    </tr>\n",
       "    <tr>\n",
       "      <th>Abdul A.</th>\n",
       "      <td>5.0</td>\n",
       "      <td>0.0</td>\n",
       "      <td>0.0</td>\n",
       "      <td>0.0</td>\n",
       "      <td>0.0</td>\n",
       "      <td>0.0</td>\n",
       "      <td>0.0</td>\n",
       "      <td>0.0</td>\n",
       "      <td>0.0</td>\n",
       "      <td>0.0</td>\n",
       "      <td>...</td>\n",
       "      <td>0.0</td>\n",
       "      <td>0.0</td>\n",
       "      <td>0.0</td>\n",
       "      <td>0.0</td>\n",
       "      <td>0.0</td>\n",
       "      <td>0.0</td>\n",
       "      <td>0.0</td>\n",
       "      <td>0.0</td>\n",
       "      <td>0.0</td>\n",
       "      <td>0.0</td>\n",
       "    </tr>\n",
       "    <tr>\n",
       "      <th>Abdulla J.</th>\n",
       "      <td>0.0</td>\n",
       "      <td>0.0</td>\n",
       "      <td>0.0</td>\n",
       "      <td>0.0</td>\n",
       "      <td>0.0</td>\n",
       "      <td>0.0</td>\n",
       "      <td>0.0</td>\n",
       "      <td>0.0</td>\n",
       "      <td>0.0</td>\n",
       "      <td>0.0</td>\n",
       "      <td>...</td>\n",
       "      <td>0.0</td>\n",
       "      <td>0.0</td>\n",
       "      <td>0.0</td>\n",
       "      <td>0.0</td>\n",
       "      <td>0.0</td>\n",
       "      <td>0.0</td>\n",
       "      <td>0.0</td>\n",
       "      <td>0.0</td>\n",
       "      <td>0.0</td>\n",
       "      <td>0.0</td>\n",
       "    </tr>\n",
       "    <tr>\n",
       "      <th>Abdullah A.</th>\n",
       "      <td>0.0</td>\n",
       "      <td>0.0</td>\n",
       "      <td>0.0</td>\n",
       "      <td>0.0</td>\n",
       "      <td>0.0</td>\n",
       "      <td>0.0</td>\n",
       "      <td>5.0</td>\n",
       "      <td>0.0</td>\n",
       "      <td>0.0</td>\n",
       "      <td>0.0</td>\n",
       "      <td>...</td>\n",
       "      <td>0.0</td>\n",
       "      <td>0.0</td>\n",
       "      <td>0.0</td>\n",
       "      <td>0.0</td>\n",
       "      <td>0.0</td>\n",
       "      <td>0.0</td>\n",
       "      <td>0.0</td>\n",
       "      <td>0.0</td>\n",
       "      <td>0.0</td>\n",
       "      <td>0.0</td>\n",
       "    </tr>\n",
       "  </tbody>\n",
       "</table>\n",
       "<p>5 rows × 59 columns</p>\n",
       "</div>"
      ],
      "text/plain": [
       "ID           464439297      1850379265     1925374721     2374069313     \\\n",
       "User                                                                      \n",
       "Aa                     0.0            0.0            0.0            4.0   \n",
       "Aaron K.               0.0            0.0            0.0            0.0   \n",
       "Abdul A.               5.0            0.0            0.0            0.0   \n",
       "Abdulla J.             0.0            0.0            0.0            0.0   \n",
       "Abdullah A.            0.0            0.0            0.0            0.0   \n",
       "\n",
       "ID           3619829639     5723884103     6903008775     10148981767    \\\n",
       "User                                                                      \n",
       "Aa                     0.0            0.0            0.0            0.0   \n",
       "Aaron K.               0.0            0.0            0.0            0.0   \n",
       "Abdul A.               0.0            0.0            0.0            0.0   \n",
       "Abdulla J.             0.0            0.0            0.0            0.0   \n",
       "Abdullah A.            0.0            0.0            5.0            0.0   \n",
       "\n",
       "ID           10212908615    10935947527    ...  6907877032033  6907881390177  \\\n",
       "User                                       ...                                 \n",
       "Aa                     0.0            0.0  ...            0.0            0.0   \n",
       "Aaron K.               0.0            0.0  ...            0.0            0.0   \n",
       "Abdul A.               0.0            0.0  ...            0.0            0.0   \n",
       "Abdulla J.             0.0            0.0  ...            0.0            0.0   \n",
       "Abdullah A.            0.0            0.0  ...            0.0            0.0   \n",
       "\n",
       "ID           6966634250337  6966653583457  6966658924641  6976031522913  \\\n",
       "User                                                                      \n",
       "Aa                     0.0            0.0            0.0            0.0   \n",
       "Aaron K.               0.0            0.0            0.0            0.0   \n",
       "Abdul A.               0.0            0.0            0.0            0.0   \n",
       "Abdulla J.             0.0            0.0            0.0            0.0   \n",
       "Abdullah A.            0.0            0.0            0.0            0.0   \n",
       "\n",
       "ID           6977998258273  6983550599265  6983557021793  6993170825313  \n",
       "User                                                                     \n",
       "Aa                     0.0            0.0            0.0            0.0  \n",
       "Aaron K.               0.0            0.0            0.0            0.0  \n",
       "Abdul A.               0.0            0.0            0.0            0.0  \n",
       "Abdulla J.             0.0            0.0            0.0            0.0  \n",
       "Abdullah A.            0.0            0.0            0.0            0.0  \n",
       "\n",
       "[5 rows x 59 columns]"
      ]
     },
     "execution_count": 4,
     "metadata": {},
     "output_type": "execute_result"
    }
   ],
   "source": [
    "model = review.pivot_table(index='User', columns='ID', values='Rating').fillna(0)\n",
    "model.head()"
   ]
  },
  {
   "cell_type": "code",
   "execution_count": 5,
   "id": "cbd72bec-98f0-4599-a70f-4bda9afccdb5",
   "metadata": {
    "tags": []
   },
   "outputs": [],
   "source": [
    "model = model.reset_index()\n",
    "model.to_csv(os.getcwd()+'\\\\data\\\\RecommenderSystem\\\\collaborativeBased.csv', index=False)"
   ]
  },
  {
   "cell_type": "markdown",
   "id": "230e1a50-e78d-4d71-a2fd-ee36f1f93300",
   "metadata": {},
   "source": [
    "## Testing Model"
   ]
  },
  {
   "cell_type": "code",
   "execution_count": 6,
   "id": "c9d14022-4663-4fb5-b8e3-eb4b234c2042",
   "metadata": {
    "tags": []
   },
   "outputs": [
    {
     "data": {
      "text/html": [
       "<div>\n",
       "<style scoped>\n",
       "    .dataframe tbody tr th:only-of-type {\n",
       "        vertical-align: middle;\n",
       "    }\n",
       "\n",
       "    .dataframe tbody tr th {\n",
       "        vertical-align: top;\n",
       "    }\n",
       "\n",
       "    .dataframe thead th {\n",
       "        text-align: right;\n",
       "    }\n",
       "</style>\n",
       "<table border=\"1\" class=\"dataframe\">\n",
       "  <thead>\n",
       "    <tr style=\"text-align: right;\">\n",
       "      <th></th>\n",
       "      <th>464439297</th>\n",
       "      <th>1850379265</th>\n",
       "      <th>1925374721</th>\n",
       "      <th>2374069313</th>\n",
       "      <th>3619829639</th>\n",
       "      <th>5723884103</th>\n",
       "      <th>6903008775</th>\n",
       "      <th>10148981767</th>\n",
       "      <th>10212908615</th>\n",
       "      <th>10935947527</th>\n",
       "      <th>...</th>\n",
       "      <th>6907877032033</th>\n",
       "      <th>6907881390177</th>\n",
       "      <th>6966634250337</th>\n",
       "      <th>6966653583457</th>\n",
       "      <th>6966658924641</th>\n",
       "      <th>6976031522913</th>\n",
       "      <th>6977998258273</th>\n",
       "      <th>6983550599265</th>\n",
       "      <th>6983557021793</th>\n",
       "      <th>6993170825313</th>\n",
       "    </tr>\n",
       "    <tr>\n",
       "      <th>User</th>\n",
       "      <th></th>\n",
       "      <th></th>\n",
       "      <th></th>\n",
       "      <th></th>\n",
       "      <th></th>\n",
       "      <th></th>\n",
       "      <th></th>\n",
       "      <th></th>\n",
       "      <th></th>\n",
       "      <th></th>\n",
       "      <th></th>\n",
       "      <th></th>\n",
       "      <th></th>\n",
       "      <th></th>\n",
       "      <th></th>\n",
       "      <th></th>\n",
       "      <th></th>\n",
       "      <th></th>\n",
       "      <th></th>\n",
       "      <th></th>\n",
       "      <th></th>\n",
       "    </tr>\n",
       "  </thead>\n",
       "  <tbody>\n",
       "    <tr>\n",
       "      <th>Aa</th>\n",
       "      <td>0.0</td>\n",
       "      <td>0.0</td>\n",
       "      <td>0.0</td>\n",
       "      <td>4.0</td>\n",
       "      <td>0.0</td>\n",
       "      <td>0.0</td>\n",
       "      <td>0.0</td>\n",
       "      <td>0.0</td>\n",
       "      <td>0.0</td>\n",
       "      <td>0.0</td>\n",
       "      <td>...</td>\n",
       "      <td>0.0</td>\n",
       "      <td>0.0</td>\n",
       "      <td>0.0</td>\n",
       "      <td>0.0</td>\n",
       "      <td>0.0</td>\n",
       "      <td>0.0</td>\n",
       "      <td>0.0</td>\n",
       "      <td>0.0</td>\n",
       "      <td>0.0</td>\n",
       "      <td>0.0</td>\n",
       "    </tr>\n",
       "    <tr>\n",
       "      <th>Aaron K.</th>\n",
       "      <td>0.0</td>\n",
       "      <td>0.0</td>\n",
       "      <td>0.0</td>\n",
       "      <td>0.0</td>\n",
       "      <td>0.0</td>\n",
       "      <td>0.0</td>\n",
       "      <td>0.0</td>\n",
       "      <td>0.0</td>\n",
       "      <td>0.0</td>\n",
       "      <td>0.0</td>\n",
       "      <td>...</td>\n",
       "      <td>0.0</td>\n",
       "      <td>0.0</td>\n",
       "      <td>0.0</td>\n",
       "      <td>0.0</td>\n",
       "      <td>0.0</td>\n",
       "      <td>0.0</td>\n",
       "      <td>0.0</td>\n",
       "      <td>0.0</td>\n",
       "      <td>0.0</td>\n",
       "      <td>0.0</td>\n",
       "    </tr>\n",
       "    <tr>\n",
       "      <th>Abdul A.</th>\n",
       "      <td>5.0</td>\n",
       "      <td>0.0</td>\n",
       "      <td>0.0</td>\n",
       "      <td>0.0</td>\n",
       "      <td>0.0</td>\n",
       "      <td>0.0</td>\n",
       "      <td>0.0</td>\n",
       "      <td>0.0</td>\n",
       "      <td>0.0</td>\n",
       "      <td>0.0</td>\n",
       "      <td>...</td>\n",
       "      <td>0.0</td>\n",
       "      <td>0.0</td>\n",
       "      <td>0.0</td>\n",
       "      <td>0.0</td>\n",
       "      <td>0.0</td>\n",
       "      <td>0.0</td>\n",
       "      <td>0.0</td>\n",
       "      <td>0.0</td>\n",
       "      <td>0.0</td>\n",
       "      <td>0.0</td>\n",
       "    </tr>\n",
       "    <tr>\n",
       "      <th>Abdulla J.</th>\n",
       "      <td>0.0</td>\n",
       "      <td>0.0</td>\n",
       "      <td>0.0</td>\n",
       "      <td>0.0</td>\n",
       "      <td>0.0</td>\n",
       "      <td>0.0</td>\n",
       "      <td>0.0</td>\n",
       "      <td>0.0</td>\n",
       "      <td>0.0</td>\n",
       "      <td>0.0</td>\n",
       "      <td>...</td>\n",
       "      <td>0.0</td>\n",
       "      <td>0.0</td>\n",
       "      <td>0.0</td>\n",
       "      <td>0.0</td>\n",
       "      <td>0.0</td>\n",
       "      <td>0.0</td>\n",
       "      <td>0.0</td>\n",
       "      <td>0.0</td>\n",
       "      <td>0.0</td>\n",
       "      <td>0.0</td>\n",
       "    </tr>\n",
       "    <tr>\n",
       "      <th>Abdullah A.</th>\n",
       "      <td>0.0</td>\n",
       "      <td>0.0</td>\n",
       "      <td>0.0</td>\n",
       "      <td>0.0</td>\n",
       "      <td>0.0</td>\n",
       "      <td>0.0</td>\n",
       "      <td>5.0</td>\n",
       "      <td>0.0</td>\n",
       "      <td>0.0</td>\n",
       "      <td>0.0</td>\n",
       "      <td>...</td>\n",
       "      <td>0.0</td>\n",
       "      <td>0.0</td>\n",
       "      <td>0.0</td>\n",
       "      <td>0.0</td>\n",
       "      <td>0.0</td>\n",
       "      <td>0.0</td>\n",
       "      <td>0.0</td>\n",
       "      <td>0.0</td>\n",
       "      <td>0.0</td>\n",
       "      <td>0.0</td>\n",
       "    </tr>\n",
       "  </tbody>\n",
       "</table>\n",
       "<p>5 rows × 59 columns</p>\n",
       "</div>"
      ],
      "text/plain": [
       "             464439297      1850379265     1925374721     2374069313     \\\n",
       "User                                                                      \n",
       "Aa                     0.0            0.0            0.0            4.0   \n",
       "Aaron K.               0.0            0.0            0.0            0.0   \n",
       "Abdul A.               5.0            0.0            0.0            0.0   \n",
       "Abdulla J.             0.0            0.0            0.0            0.0   \n",
       "Abdullah A.            0.0            0.0            0.0            0.0   \n",
       "\n",
       "             3619829639     5723884103     6903008775     10148981767    \\\n",
       "User                                                                      \n",
       "Aa                     0.0            0.0            0.0            0.0   \n",
       "Aaron K.               0.0            0.0            0.0            0.0   \n",
       "Abdul A.               0.0            0.0            0.0            0.0   \n",
       "Abdulla J.             0.0            0.0            0.0            0.0   \n",
       "Abdullah A.            0.0            0.0            5.0            0.0   \n",
       "\n",
       "             10212908615    10935947527    ...  6907877032033  6907881390177  \\\n",
       "User                                       ...                                 \n",
       "Aa                     0.0            0.0  ...            0.0            0.0   \n",
       "Aaron K.               0.0            0.0  ...            0.0            0.0   \n",
       "Abdul A.               0.0            0.0  ...            0.0            0.0   \n",
       "Abdulla J.             0.0            0.0  ...            0.0            0.0   \n",
       "Abdullah A.            0.0            0.0  ...            0.0            0.0   \n",
       "\n",
       "             6966634250337  6966653583457  6966658924641  6976031522913  \\\n",
       "User                                                                      \n",
       "Aa                     0.0            0.0            0.0            0.0   \n",
       "Aaron K.               0.0            0.0            0.0            0.0   \n",
       "Abdul A.               0.0            0.0            0.0            0.0   \n",
       "Abdulla J.             0.0            0.0            0.0            0.0   \n",
       "Abdullah A.            0.0            0.0            0.0            0.0   \n",
       "\n",
       "             6977998258273  6983550599265  6983557021793  6993170825313  \n",
       "User                                                                     \n",
       "Aa                     0.0            0.0            0.0            0.0  \n",
       "Aaron K.               0.0            0.0            0.0            0.0  \n",
       "Abdul A.               0.0            0.0            0.0            0.0  \n",
       "Abdulla J.             0.0            0.0            0.0            0.0  \n",
       "Abdullah A.            0.0            0.0            0.0            0.0  \n",
       "\n",
       "[5 rows x 59 columns]"
      ]
     },
     "execution_count": 6,
     "metadata": {},
     "output_type": "execute_result"
    }
   ],
   "source": [
    "model = pd.read_csv(os.getcwd()+'\\\\data\\\\RecommenderSystem\\\\collaborativeBased.csv', index_col='User')\n",
    "model.columns = model.columns.astype(np.int64)\n",
    "model.head()"
   ]
  },
  {
   "cell_type": "code",
   "execution_count": 7,
   "id": "18c991ae-12c8-4f61-9aa7-4502fe39b275",
   "metadata": {
    "tags": []
   },
   "outputs": [],
   "source": [
    "preference = [\n",
    "    {'ProductID': 464439297, 'Rating': 4},\n",
    "    {'ProductID': 1850379265, 'Rating': 4},\n",
    "    {'ProductID': 2374069313, 'Rating': 5},\n",
    "    {'ProductID': 6903008775, 'Rating': 5},\n",
    "    {'ProductID': 11300571975, 'Rating': 5},\n",
    "    {'ProductID': 452304175135, 'Rating': 5},\n",
    "    {'ProductID': 766219747425, 'Rating': 4},\n",
    "    {'ProductID': 1419071258721, 'Rating': 4},\n",
    "    {'ProductID': 1419080040545, 'Rating': 5},\n",
    "    {'ProductID': 2028338511969, 'Rating': 5},\n",
    "    {'ProductID': 4765085335649, 'Rating': 5}\n",
    "]"
   ]
  },
  {
   "cell_type": "code",
   "execution_count": 8,
   "id": "da8e2d53-5dd0-43f3-a098-417d4213d3d9",
   "metadata": {
    "tags": []
   },
   "outputs": [],
   "source": [
    "def CollaborativeBased(preference):\n",
    "    preference = pd.DataFrame(preference).set_index('ProductID').rename(columns={'Rating':'Target'})\n",
    "    result = pd.concat([preference.T, model]).fillna(0)\n",
    "    similarity = result.subtract(result.mean(axis=1))\n",
    "    similarity = pd.DataFrame(data=cosine_similarity(similarity.fillna(0)), index=similarity.index, columns=similarity.index)\n",
    "    result = result.loc[similarity.nlargest(10, 'Target').index]\n",
    "    result = result.drop(preference.index, axis=1)\n",
    "    return result.mean(axis=0).sort_values(ascending=False)[:3].index.to_list()"
   ]
  },
  {
   "cell_type": "code",
   "execution_count": 9,
   "id": "deddbcea-2cd2-4f5c-b781-336e91e6eba5",
   "metadata": {
    "tags": []
   },
   "outputs": [
    {
     "data": {
      "text/plain": [
       "[291859234847, 5723884103, 3959064789089]"
      ]
     },
     "execution_count": 9,
     "metadata": {},
     "output_type": "execute_result"
    }
   ],
   "source": [
    "CollaborativeBased(preference)"
   ]
  },
  {
   "cell_type": "code",
   "execution_count": null,
   "id": "081d595c-8351-4b44-9211-8d5d1f7894a8",
   "metadata": {},
   "outputs": [],
   "source": []
  },
  {
   "cell_type": "code",
   "execution_count": 10,
   "id": "0d00c880-28bf-4a42-8175-44227f93483f",
   "metadata": {},
   "outputs": [],
   "source": [
    "def parseFeedback(feedback, preference, keep):\n",
    "    try:\n",
    "        for x in feedback:\n",
    "            if x['Interested'] == True:\n",
    "                rating = 5            \n",
    "                keep.append(x['ProductID'])\n",
    "            elif x['Interested'] == False:\n",
    "                rating = 1\n",
    "            else:\n",
    "                return False\n",
    "            preference.append({'ProductID':x['ProductID'], 'Rating':rating})\n",
    "            return True\n",
    "    except Exception as e:\n",
    "        return False\n",
    "    \n",
    "def CollaborativeBased(preference, feedback=[]):\n",
    "    \n",
    "    keep = []\n",
    "    if feedback and not parseFeedback(feedback, preference, keep): return False\n",
    "\n",
    "    preference = pd.DataFrame(preference).set_index('ProductID').rename(columns={'Rating':'Target'})\n",
    "    result = pd.concat([preference.T, model]).fillna(0)\n",
    "    \n",
    "    similarity = result.subtract(result.mean(axis=1))\n",
    "    similarity = pd.DataFrame(data=cosine_similarity(similarity.fillna(0)), index=similarity.index, columns=similarity.index)\n",
    "    \n",
    "    result = result.loc[similarity.nlargest(10, 'Target').index]\n",
    "    \n",
    "    if keep != []: result = result.drop([x for x in preference.index if x not in keep], axis=1)\n",
    "    else: result = result.drop(preference.index, axis=1)\n",
    "    \n",
    "    result = result.mean(axis=0).sort_values(ascending=False)\n",
    "    return result[:3].index.to_list()"
   ]
  },
  {
   "cell_type": "code",
   "execution_count": 11,
   "id": "bbb304e4-009f-4a9e-bfe6-3ec5c2585310",
   "metadata": {
    "tags": []
   },
   "outputs": [
    {
     "data": {
      "text/plain": [
       "[291859234847, 5723884103, 3959064789089]"
      ]
     },
     "execution_count": 11,
     "metadata": {},
     "output_type": "execute_result"
    }
   ],
   "source": [
    "CollaborativeBased(preference)"
   ]
  },
  {
   "cell_type": "code",
   "execution_count": 12,
   "id": "8fc69499-2a28-41ce-a461-5db8bc821501",
   "metadata": {
    "tags": []
   },
   "outputs": [
    {
     "data": {
      "text/plain": [
       "[5723884103, 3959064789089, 1925374721]"
      ]
     },
     "execution_count": 12,
     "metadata": {},
     "output_type": "execute_result"
    }
   ],
   "source": [
    "CollaborativeBased(preference, feedback=[{'ProductID':291859234847, 'Interested':False}])"
   ]
  },
  {
   "cell_type": "code",
   "execution_count": null,
   "id": "fcc325f3-20e4-4435-8a5b-a689d9d6e14a",
   "metadata": {},
   "outputs": [],
   "source": []
  },
  {
   "cell_type": "markdown",
   "id": "c33e6d02-4e87-4eff-b7c6-e2877ab5c415",
   "metadata": {
    "tags": []
   },
   "source": [
    "## Log Process"
   ]
  },
  {
   "cell_type": "code",
   "execution_count": 13,
   "id": "3efa04d6-f11a-4a59-82a6-f9c3266063bb",
   "metadata": {
    "tags": []
   },
   "outputs": [
    {
     "data": {
      "text/html": [
       "<div>\n",
       "<style scoped>\n",
       "    .dataframe tbody tr th:only-of-type {\n",
       "        vertical-align: middle;\n",
       "    }\n",
       "\n",
       "    .dataframe tbody tr th {\n",
       "        vertical-align: top;\n",
       "    }\n",
       "\n",
       "    .dataframe thead th {\n",
       "        text-align: right;\n",
       "    }\n",
       "</style>\n",
       "<table border=\"1\" class=\"dataframe\">\n",
       "  <thead>\n",
       "    <tr style=\"text-align: right;\">\n",
       "      <th></th>\n",
       "      <th>Tags</th>\n",
       "    </tr>\n",
       "    <tr>\n",
       "      <th>ID</th>\n",
       "      <th></th>\n",
       "    </tr>\n",
       "  </thead>\n",
       "  <tbody>\n",
       "    <tr>\n",
       "      <th>2374069313</th>\n",
       "      <td>[Africa, Blend, Central America, Chocolate, Es...</td>\n",
       "    </tr>\n",
       "    <tr>\n",
       "      <th>6903008775</th>\n",
       "      <td>[Asia &amp; Pacific, Blend, Bold, Caramel, Chocola...</td>\n",
       "    </tr>\n",
       "    <tr>\n",
       "      <th>6811920695393</th>\n",
       "      <td>[Anaerobic, Asia &amp; Pacific, Best Coffee, Filte...</td>\n",
       "    </tr>\n",
       "    <tr>\n",
       "      <th>452304175135</th>\n",
       "      <td>[Bestseller, Blend, Bold, Caramel, Chocolate, ...</td>\n",
       "    </tr>\n",
       "    <tr>\n",
       "      <th>1419084071009</th>\n",
       "      <td>[Blend, Bold, Chocolate, Espresso, Malaysia, M...</td>\n",
       "    </tr>\n",
       "  </tbody>\n",
       "</table>\n",
       "</div>"
      ],
      "text/plain": [
       "                                                            Tags\n",
       "ID                                                              \n",
       "2374069313     [Africa, Blend, Central America, Chocolate, Es...\n",
       "6903008775     [Asia & Pacific, Blend, Bold, Caramel, Chocola...\n",
       "6811920695393  [Anaerobic, Asia & Pacific, Best Coffee, Filte...\n",
       "452304175135   [Bestseller, Blend, Bold, Caramel, Chocolate, ...\n",
       "1419084071009  [Blend, Bold, Chocolate, Espresso, Malaysia, M..."
      ]
     },
     "execution_count": 13,
     "metadata": {},
     "output_type": "execute_result"
    }
   ],
   "source": [
    "product = pd.read_csv(baseDir+'\\\\product.csv', index_col='ID', converters={'Tags':literal_eval})\n",
    "product.head()"
   ]
  },
  {
   "cell_type": "code",
   "execution_count": 14,
   "id": "65e99a52-4e75-4ca7-922f-66bf06e778ad",
   "metadata": {},
   "outputs": [],
   "source": [
    "from io import BytesIO\n",
    "import base64\n",
    "\n",
    "def collaborativeBasedDescription(result):\n",
    "    description = 'The recommendation is derived from a set of user with a similar preference to you. You might find something new that you would enjoy, but do note that certain product might not get recommended due to lack of review.'\n",
    "    wordList = product.loc[result].explode('Tags')['Tags'].value_counts().to_dict()\n",
    "    wordCloud = WordCloud(background_color='white').generate_from_frequencies(wordList).to_image()\n",
    "    image = BytesIO()\n",
    "    wordCloud.save(image, format='png')\n",
    "    return description, image.getvalue()"
   ]
  },
  {
   "cell_type": "code",
   "execution_count": 16,
   "id": "e1180eca-02a8-4b90-a03c-0a9db18a7b60",
   "metadata": {
    "tags": []
   },
   "outputs": [],
   "source": [
    "description, image = collaborativeBasedDescription([5723884103, 3959064789089, 1925374721])"
   ]
  },
  {
   "cell_type": "code",
   "execution_count": null,
   "id": "dd0eaf51-0ca9-4ea1-a8a8-86aa387d6d2e",
   "metadata": {},
   "outputs": [],
   "source": []
  }
 ],
 "metadata": {
  "kernelspec": {
   "display_name": "Python 3 (ipykernel)",
   "language": "python",
   "name": "python3"
  },
  "language_info": {
   "codemirror_mode": {
    "name": "ipython",
    "version": 3
   },
   "file_extension": ".py",
   "mimetype": "text/x-python",
   "name": "python",
   "nbconvert_exporter": "python",
   "pygments_lexer": "ipython3",
   "version": "3.11.4"
  }
 },
 "nbformat": 4,
 "nbformat_minor": 5
}
